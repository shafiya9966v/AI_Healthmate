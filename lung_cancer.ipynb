{
 "cells": [
  {
   "cell_type": "code",
   "execution_count": 6,
   "id": "0959f837",
   "metadata": {},
   "outputs": [
    {
     "name": "stdout",
     "output_type": "stream",
     "text": [
      "✅ Loaded 197 images from C:\\Users\\Akhila\\digita_pathology\\data\\Test cases\n",
      "Shape of test_images: (197, 224, 224, 3)\n",
      "First 5 files: ['000001_03_01_088.png', '000017_02_01_016.png', '000019_01_01_021.png', '000019_02_01_025.png', '000019_03_01_025.png']\n"
     ]
    }
   ],
   "source": [
    "import os\n",
    "import numpy as np\n",
    "from tensorflow.keras.preprocessing import image\n",
    "\n",
    "def load_test_images(test_dir, target_size=(224, 224)):\n",
    "    test_images = []\n",
    "    filenames = []\n",
    "\n",
    "    # Allowed formats\n",
    "    valid_exts = ('.jpg', '.jpeg', '.png', '.bmp', '.tif', '.tiff')\n",
    "\n",
    "    for fname in os.listdir(test_dir):\n",
    "        if fname.lower().endswith(valid_exts):\n",
    "            try:\n",
    "                img_path = os.path.join(test_dir, fname)\n",
    "                img = image.load_img(img_path, target_size=target_size)\n",
    "                img_array = image.img_to_array(img) / 255.0\n",
    "                test_images.append(img_array)\n",
    "                filenames.append(fname)\n",
    "            except Exception as e:\n",
    "                print(f\"⚠️ Skipping {fname} due to error: {e}\")\n",
    "\n",
    "    test_images = np.array(test_images)\n",
    "    print(f\"✅ Loaded {len(test_images)} images from {test_dir}\")\n",
    "    return test_images, filenames\n",
    "\n",
    "\n",
    "# ---- USAGE ----\n",
    "test_dir = r\"C:\\Users\\Akhila\\digita_pathology\\data\\Test cases\"\n",
    "test_images, filenames = load_test_images(test_dir)\n",
    "\n",
    "print(\"Shape of test_images:\", test_images.shape)\n",
    "print(\"First 5 files:\", filenames[:5])\n"
   ]
  },
  {
   "cell_type": "code",
   "execution_count": 7,
   "id": "500e8e7f",
   "metadata": {},
   "outputs": [
    {
     "ename": "NameError",
     "evalue": "name 'model' is not defined",
     "output_type": "error",
     "traceback": [
      "\u001b[1;31m---------------------------------------------------------------------------\u001b[0m",
      "\u001b[1;31mNameError\u001b[0m                                 Traceback (most recent call last)",
      "Cell \u001b[1;32mIn[7], line 4\u001b[0m\n\u001b[0;32m      1\u001b[0m \u001b[38;5;66;03m# Assuming you already trained your model\u001b[39;00m\n\u001b[0;32m      2\u001b[0m \u001b[38;5;66;03m# and it was named \"model\"\u001b[39;00m\n\u001b[1;32m----> 4\u001b[0m predictions \u001b[38;5;241m=\u001b[39m \u001b[43mmodel\u001b[49m\u001b[38;5;241m.\u001b[39mpredict(test_images)\n\u001b[0;32m      6\u001b[0m \u001b[38;5;66;03m# Convert predictions (softmax) to class indices\u001b[39;00m\n\u001b[0;32m      7\u001b[0m predicted_indices \u001b[38;5;241m=\u001b[39m np\u001b[38;5;241m.\u001b[39margmax(predictions, axis\u001b[38;5;241m=\u001b[39m\u001b[38;5;241m1\u001b[39m)\n",
      "\u001b[1;31mNameError\u001b[0m: name 'model' is not defined"
     ]
    }
   ],
   "source": [
    "# Assuming you already trained your model\n",
    "# and it was named \"model\"\n",
    "\n",
    "predictions = model.predict(test_images)\n",
    "\n",
    "# Convert predictions (softmax) to class indices\n",
    "predicted_indices = np.argmax(predictions, axis=1)\n",
    "\n",
    "# Get class names from training dataset\n",
    "class_names = train_ds.class_names  # ['Benign cases', 'Malignant cases', 'Normal cases']\n",
    "\n",
    "# Map indices to class labels\n",
    "predicted_labels = [class_names[i] for i in predicted_indices]\n",
    "\n",
    "# Show first 10 predictions\n",
    "for fname, label in zip(filenames[:10], predicted_labels[:10]):\n",
    "    print(f\"{fname} → {label}\")\n"
   ]
  },
  {
   "cell_type": "code",
   "execution_count": 5,
   "id": "d0a663b0",
   "metadata": {},
   "outputs": [
    {
     "name": "stdout",
     "output_type": "stream",
     "text": [
      "Loaded test images: (197, 224, 224, 3)\n"
     ]
    }
   ],
   "source": [
    "import os\n",
    "import numpy as np\n",
    "from tensorflow.keras.preprocessing import image\n",
    "\n",
    "test_dir = r\"C:\\Users\\Akhila\\digita_pathology\\data\\Test cases\"\n",
    "\n",
    "test_images = []\n",
    "filenames = []\n",
    "\n",
    "for fname in os.listdir(test_dir):\n",
    "    if fname.lower().endswith(('.jpg', '.jpeg', '.png')):\n",
    "        img_path = os.path.join(test_dir, fname)\n",
    "        img = image.load_img(img_path, target_size=(224, 224))\n",
    "        img_array = image.img_to_array(img) / 255.0\n",
    "        test_images.append(img_array)\n",
    "        filenames.append(fname)\n",
    "\n",
    "test_images = np.array(test_images)\n",
    "print(\"Loaded test images:\", test_images.shape)\n"
   ]
  },
  {
   "cell_type": "code",
   "execution_count": 11,
   "id": "60f376f7",
   "metadata": {},
   "outputs": [
    {
     "name": "stderr",
     "output_type": "stream",
     "text": [
      "WARNING:absl:Compiled the loaded model, but the compiled metrics have yet to be built. `model.compile_metrics` will be empty until you train or evaluate the model.\n"
     ]
    },
    {
     "name": "stdout",
     "output_type": "stream",
     "text": [
      "\u001b[1m7/7\u001b[0m \u001b[32m━━━━━━━━━━━━━━━━━━━━\u001b[0m\u001b[37m\u001b[0m \u001b[1m18s\u001b[0m 2s/step\n"
     ]
    }
   ],
   "source": [
    "from tensorflow.keras.models import load_model\n",
    "\n",
    "# Load model file (replace with your actual saved filename)\n",
    "model = load_model(\"lung_cancer_model.h5\")\n",
    "\n",
    "# Now you can predict\n",
    "predictions = model.predict(test_images)\n"
   ]
  },
  {
   "cell_type": "code",
   "execution_count": 10,
   "id": "91155bf0",
   "metadata": {},
   "outputs": [
    {
     "name": "stdout",
     "output_type": "stream",
     "text": [
      "Epoch 1/3\n",
      "\u001b[1m35/35\u001b[0m \u001b[32m━━━━━━━━━━━━━━━━━━━━\u001b[0m\u001b[37m\u001b[0m \u001b[1m95s\u001b[0m 2s/step - accuracy: 0.8876 - loss: 0.2919\n",
      "Epoch 2/3\n",
      "\u001b[1m35/35\u001b[0m \u001b[32m━━━━━━━━━━━━━━━━━━━━\u001b[0m\u001b[37m\u001b[0m \u001b[1m89s\u001b[0m 3s/step - accuracy: 1.0000 - loss: 0.0015\n",
      "Epoch 3/3\n",
      "\u001b[1m35/35\u001b[0m \u001b[32m━━━━━━━━━━━━━━━━━━━━\u001b[0m\u001b[37m\u001b[0m \u001b[1m64s\u001b[0m 2s/step - accuracy: 1.0000 - loss: 0.0011\n"
     ]
    },
    {
     "name": "stderr",
     "output_type": "stream",
     "text": [
      "WARNING:absl:You are saving your model as an HDF5 file via `model.save()` or `keras.saving.save_model(model)`. This file format is considered legacy. We recommend using instead the native Keras format, e.g. `model.save('my_model.keras')` or `keras.saving.save_model(model, 'my_model.keras')`. \n"
     ]
    }
   ],
   "source": [
    "from tensorflow.keras.applications import ResNet50\n",
    "from tensorflow.keras import layers, models\n",
    "\n",
    "num_classes = 3  # Benign, Malignant, Normal\n",
    "\n",
    "base_model = ResNet50(weights='imagenet', include_top=False, input_shape=(224,224,3))\n",
    "base_model.trainable = False  # freeze all convolutional layers\n",
    "\n",
    "# Add a simple classifier on top\n",
    "model = models.Sequential([\n",
    "    base_model,\n",
    "    layers.GlobalAveragePooling2D(),\n",
    "    layers.Dense(num_classes, activation='softmax')\n",
    "])\n",
    "\n",
    "model.compile(optimizer='adam',\n",
    "              loss='sparse_categorical_crossentropy',\n",
    "              metrics=['accuracy'])\n",
    "\n",
    "# Train only the top classifier (should be fast)\n",
    "history = model.fit(train_ds, epochs=3)  # 3–5 epochs enough for a demo\n",
    "\n",
    "# Save it\n",
    "model.save(\"lung_cancer_model.h5\")\n"
   ]
  }
 ],
 "metadata": {
  "kernelspec": {
   "display_name": "Python 3",
   "language": "python",
   "name": "python3"
  },
  "language_info": {
   "codemirror_mode": {
    "name": "ipython",
    "version": 3
   },
   "file_extension": ".py",
   "mimetype": "text/x-python",
   "name": "python",
   "nbconvert_exporter": "python",
   "pygments_lexer": "ipython3",
   "version": "3.12.5"
  }
 },
 "nbformat": 4,
 "nbformat_minor": 5
}
