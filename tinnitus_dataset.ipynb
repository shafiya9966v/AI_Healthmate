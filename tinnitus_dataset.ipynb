{
 "cells": [
  {
   "cell_type": "code",
   "execution_count": 4,
   "id": "b014d5a3-5e62-409d-bc52-32a53a4c6d30",
   "metadata": {},
   "outputs": [
    {
     "name": "stdin",
     "output_type": "stream",
     "text": [
      "Enter number of rows you want in the dataset:  4000\n"
     ]
    },
    {
     "name": "stdout",
     "output_type": "stream",
     "text": [
      "Dataset with 4000 rows created successfully with enhanced features!\n",
      "   duration_hours  volume_percent  env_noise_dB  age  tone_test_avg  \\\n",
      "0            3.00              20         81.48   21          13.92   \n",
      "1            7.61              63         35.60   36           4.78   \n",
      "2            5.86              36         55.16   62           8.24   \n",
      "3            4.79              26         90.09   39           8.70   \n",
      "4            1.25              54         46.28   30          42.13   \n",
      "\n",
      "   headphone_type  daily_sessions  occupational_noise_dB risk_level  \n",
      "0               1               2                  84.24     Medium  \n",
      "1               0               3                  89.81       High  \n",
      "2               0               5                  59.43       High  \n",
      "3               0               3                  76.75       High  \n",
      "4               1               4                  34.12     Medium  \n"
     ]
    }
   ],
   "source": [
    "import pandas as pd\n",
    "import numpy as np\n",
    "\n",
    "np.random.seed(42)  # reproducibility\n",
    "\n",
    "# Ask user for number of rows\n",
    "rows = int(input(\"Enter number of rows you want in the dataset: \"))\n",
    "\n",
    "# Generate random values for original features\n",
    "data = {\n",
    "    \"duration_hours\": np.round(np.random.uniform(0, 8, rows), 2),       # float\n",
    "    \"volume_percent\": np.random.randint(0, 101, rows),                   # int\n",
    "    \"env_noise_dB\": np.round(np.random.uniform(30, 100, rows), 2),       # float\n",
    "    \"age\": np.random.randint(10, 71, rows),                               # int\n",
    "    \"tone_test_avg\": np.round(np.random.uniform(0, 50, rows), 2),        # float\n",
    "    # New features\n",
    "    \"headphone_type\": np.random.randint(0, 2, rows),                     # int: 0=in-ear, 1=over-ear\n",
    "    \"daily_sessions\": np.random.randint(1, 6, rows),                     # int: 1-5 sessions/day\n",
    "    \"occupational_noise_dB\": np.round(np.random.uniform(30, 100, rows), 2)  # float\n",
    "}\n",
    "\n",
    "df = pd.DataFrame(data)\n",
    "\n",
    "# Calculate risk_level using effective sound dose\n",
    "def calc_risk(row):\n",
    "    # Adjust effective dB considering headphone type and occupational noise\n",
    "    headphone_factor = 1.0 if row['headphone_type'] == 1 else 0.9  # over-ear slightly safer\n",
    "    effective_dB = (row['volume_percent'] * headphone_factor +\n",
    "                    0.5 * row['env_noise_dB'] +\n",
    "                    0.3 * row['occupational_noise_dB'])\n",
    "    \n",
    "    safe_hours = 8 * (85 / effective_dB)  # linear safe hours\n",
    "    total_duration = row['duration_hours'] * row['daily_sessions']  # cumulative exposure\n",
    "    dose_percent = (total_duration / safe_hours) * 100\n",
    "\n",
    "    if dose_percent < 50:\n",
    "        return \"Low\"\n",
    "    elif dose_percent < 80:\n",
    "        return \"Medium\"\n",
    "    else:\n",
    "        return \"High\"\n",
    "\n",
    "df['risk_level'] = df.apply(calc_risk, axis=1)\n",
    "\n",
    "# Save CSV\n",
    "df.to_csv(\"tinnisense_dataset.csv\", index=False)\n",
    "\n",
    "print(f\"Dataset with {rows} rows created successfully with enhanced features!\")\n",
    "print(df.head())\n"
   ]
  }
 ],
 "metadata": {
  "kernelspec": {
   "display_name": "Python 3 (ipykernel)",
   "language": "python",
   "name": "python3"
  },
  "language_info": {
   "codemirror_mode": {
    "name": "ipython",
    "version": 3
   },
   "file_extension": ".py",
   "mimetype": "text/x-python",
   "name": "python",
   "nbconvert_exporter": "python",
   "pygments_lexer": "ipython3",
   "version": "3.12.5"
  }
 },
 "nbformat": 4,
 "nbformat_minor": 5
}
